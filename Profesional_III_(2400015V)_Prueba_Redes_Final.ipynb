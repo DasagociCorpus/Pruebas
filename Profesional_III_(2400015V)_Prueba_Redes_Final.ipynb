{
  "nbformat": 4,
  "nbformat_minor": 0,
  "metadata": {
    "colab": {
      "private_outputs": true,
      "provenance": [],
      "cell_execution_strategy": "setup",
      "authorship_tag": "ABX9TyNjTI3yRfETfeNhKPQ9NYAd",
      "include_colab_link": true
    },
    "kernelspec": {
      "name": "python3",
      "display_name": "Python 3"
    },
    "language_info": {
      "name": "python"
    }
  },
  "cells": [
    {
      "cell_type": "markdown",
      "metadata": {
        "id": "view-in-github",
        "colab_type": "text"
      },
      "source": [
        "<a href=\"https://colab.research.google.com/github/DasagociCorpus/Pruebas/blob/main/Profesional_III_(2400015V)_Prueba_Redes_Final.ipynb\" target=\"_parent\"><img src=\"https://colab.research.google.com/assets/colab-badge.svg\" alt=\"Open In Colab\"/></a>"
      ]
    },
    {
      "cell_type": "markdown",
      "source": [
        "# **a. Supuestos**\n",
        "\n",
        "**Independencia de Observaciones:** Se asume que cada transacción es independiente de las demás por lo cual no existirián dependencias ocultas que puedan sesgar los resultados.\n",
        "\n",
        "**Representatividad del Submuestreo:** En caso de que el grafo contenga más de 1000 nodos, se asume que el submuestreo aleatorio de 1000 nodos mantiene la representatividad y características estructurales del grafo completo.\n",
        "\n",
        "**Detección de Comunidades:** Se asume que el algoritmo de Louvain es adecuado para detectar comunidades significativas dentro del grafo.\n",
        "\n",
        "**Homogeneidad de Atributos:** Se supone que los valores en la columna 'MONTO' son comparables entre sí.\n"
      ],
      "metadata": {
        "id": "TI26Dje76Sro"
      }
    },
    {
      "cell_type": "markdown",
      "source": [
        "# **b. Marco Teórico**\n",
        "**Análisis de Grafos:** Los grafos son una representación visual de una red o sistema complejo. Un grafo se compone de  nodos (vértices) y aristas (bordes), que se pueden representar de diferentes maneras. En la teoría de grafos, los nodos se representan con puntos y las aristas con líneas que conectan los nodos. Los grafos se utilizan para representar relaciones entre objetos, como por ejemplo en una red social, donde los nodos pueden representar usuarios y las aristas las conexiones entre ellos. (https://cienciaconjunta.com/matematicas/teoria-de-grafos-conceptos-basicos-y-aplicaciones-en-redes-y-sistemas-complejos/)\n",
        "\n",
        "**Algoritmo de Louvain:** Los algoritmos de detección de comunidades son esenciales en el análisis de datos, especialmente en el contexto de grafos. Permiten identificar agrupaciones naturales de nodos altamente interconectados en una red, lo que facilita la comprensión de las relaciones y estructuras dentro de los datos. En el caso del algoritmo de Louvain, éste se encuentra basado en la modularidad de los datos. Este realiza una evaluación del conjunto de datos y compara la densidad de aristas que están presentes dentro o fuera de la comunidad. Al optimizar este valor de iteración se obtiene un estimado de agrupación de los nodos que pertenecen a una red. (https://www.grapheverywhere.com/algoritmo-de-louvain/)\n",
        "\n",
        "**Centralidad en Grafos:**La centralidad mide la importancia de los nodos dentro de un grafo. Las métricas comunes incluyen:\n",
        "\n",
        "* Grado (Degree): Número de aristas conectadas a un nodo.\n",
        "* PageRank: Mide la importancia de los nodos basándose en la estructura de los enlaces entrantes.\n",
        "* Centralidad de Eigenvector: Evalúa la influencia de un nodo basada en la influencia de sus vecinos."
      ],
      "metadata": {
        "id": "1YrtE21j6TX-"
      }
    },
    {
      "cell_type": "markdown",
      "source": [
        "# **c. Exploración y Tratamiento de Datos**"
      ],
      "metadata": {
        "id": "yFSNggNg6Tf7"
      }
    },
    {
      "cell_type": "markdown",
      "source": [
        "## **Importar bibliotecas**\n",
        "\n",
        "Importamos las bibliotecas que necesitamos para el análisis de datos y la visualización. Esto incluye pandas para la manipulación de datos, matplotlib para la visualización y networkx para el análisis de grafos."
      ],
      "metadata": {
        "id": "GXBZnAtnVwm0"
      }
    },
    {
      "cell_type": "code",
      "source": [
        "import pandas as pd\n",
        "import warnings\n",
        "import matplotlib.pyplot as plt\n",
        "import matplotlib.colors as mcolors\n",
        "import networkx as nx\n",
        "import networkx.algorithms.community as nx_comm\n",
        "\n",
        "warnings.filterwarnings(\"ignore\")"
      ],
      "metadata": {
        "id": "mLiagmx9W5l-"
      },
      "execution_count": null,
      "outputs": []
    },
    {
      "cell_type": "markdown",
      "source": [
        "## **Cargar los datos:**\n",
        "\n",
        "Leemos los datos desde una URL utilizando pd.read_csv de pandas. Convertimos la columna 'MONTO' a tipo float para poder realizar cálculos numéricos con ella."
      ],
      "metadata": {
        "id": "-eYcy1ShWQjT"
      }
    },
    {
      "cell_type": "code",
      "source": [
        "data = 'https://docs.google.com/spreadsheets/d/e/2PACX-1vQV_Yltirr7KzrZJuuDw02xW7rPp_8vlyU1cSKh85Z_fFweg2k7L4uH-VFgsvZm9XtwGUMDzyqauJVk/pub?gid=2130478625&single=true&output=csv'\n",
        "df = pd.read_csv(data, dtype=str)\n",
        "df['MONTO'] = df['MONTO'].astype(float)"
      ],
      "metadata": {
        "id": "VU4ATVHBW9--"
      },
      "execution_count": null,
      "outputs": []
    },
    {
      "cell_type": "markdown",
      "source": [
        "## **Submuestreo de nodos y creación del grafo:**\n",
        "\n",
        "Si el número de nodos en el grafo es mayor que 1000, submuestreamos aleatoriamente 1000 nodos para reducir el tamaño del grafo y mejorar la eficiencia del procesamiento.\n",
        "\n",
        "A continuación, creamos un grafo utilizando nx.from_pandas_edgelist, que toma un df y crea un grafo con networkx basado en las columnas de origen, destino y atributos del DataFrame, en este caso Source, Target y MONTO. (https://networkx.org/)"
      ],
      "metadata": {
        "id": "de5xJtbBWS19"
      }
    },
    {
      "cell_type": "code",
      "source": [
        "# Submuestreo de nodos\n",
        "if len(df) > 1000:\n",
        "    df = df.sample(n=1000, random_state=42)\n",
        "\n",
        "#creación del grafo\n",
        "G = nx.from_pandas_edgelist(df, 'Source', 'Target', edge_attr='MONTO')\n"
      ],
      "metadata": {
        "id": "3BtWVVhUXEZT"
      },
      "execution_count": null,
      "outputs": []
    },
    {
      "cell_type": "markdown",
      "source": [
        "## **Detectar comunidades con Louvain:**\n",
        "\n",
        "Utilizamos el algoritmo de Louvain para detectar comunidades en el grafo. Esto nos permite identificar grupos de nodos altamente conectados.\n",
        "\n",
        "Es importante recalcar que el algoritmo de Louvain\n",
        "\n",
        "\n",
        "\n",
        "> [...] tiene como objetivo optimizar un concepto matemático denominado modularidad, [el cual es] una medida que se utiliza en la teoría de grafos para evaluar la calidad de una partición.\n",
        "\n",
        "De una forma más precisa:\n",
        "\n",
        ">La modularidad se define como la diferencia entre el número de enlaces observado dentro de las comunidades y el número de enlaces esperados por azar. Una alta modularidad indica que las comunidades encontradas tienen más conexiones que las esperadas por azar y, por tanto, son compactas y bien definidas.\n",
        "\n",
        "(Fuente: https://cienciadedatos.net/documentos/pygml02-detecion-comunidades-grafos-redes-python)\n",
        "\n",
        "\n",
        "\n",
        "\n"
      ],
      "metadata": {
        "id": "2Ln7r88AWZEP"
      }
    },
    {
      "cell_type": "code",
      "source": [
        "comunidades = list(nx_comm.louvain_communities(G, weight='weight', resolution=0.2))"
      ],
      "metadata": {
        "id": "x1-nzZB9XIrk"
      },
      "execution_count": null,
      "outputs": []
    },
    {
      "cell_type": "markdown",
      "source": [
        "## **Visualizar el grafo:**\n",
        "\n",
        "Visualizamos el grafo utilizando nx.draw. Establecemos el diseño del grafo con nx.spring_layout y asignamos colores a los nodos según las comunidades detectadas."
      ],
      "metadata": {
        "id": "XLkgKdWoWcPk"
      }
    },
    {
      "cell_type": "code",
      "source": [
        "color_map = [i % 10 for i, _ in enumerate(G.nodes())]\n",
        "plt.figure(figsize=(9, 5))\n",
        "pos = nx.spring_layout(G)\n",
        "nx.draw(G, pos, node_color=color_map, cmap=plt.cm.tab10, with_labels=False, node_size=15)\n",
        "plt.show()"
      ],
      "metadata": {
        "id": "0M53IRV2Xc_I"
      },
      "execution_count": null,
      "outputs": []
    },
    {
      "cell_type": "markdown",
      "source": [
        "## **Calcular métricas de centralidad:**\n",
        "\n",
        "Calculamos varias métricas de centralidad para los nodos del grafo, incluyendo\n",
        "\n",
        "degree: número de aristas adyacentes al nodo. El grado de nodo ponderado es la suma de los pesos de los bordes incidentes en ese nodo. Este objeto proporciona un iterador para (nodo, grado), así como una búsqueda del grado de un solo nodo. (https://networkx.org/documentation/stable/reference/classes/generated/networkx.Graph.degree.html)\n",
        "\n",
        "PageRank: calcula una clasificación de los nodos en el gráfico G en función de la estructura de los enlaces entrantes. (https://networkx.org/documentation/stable/reference/algorithms/generated/networkx.algorithms.link_analysis.pagerank_alg.pagerank.html)\n",
        "\n",
        "centralidad de eigenvector: calcula la centralidad de un nodo sumando la centralidad de sus predecesores. (https://networkx.org/documentation/stable/reference/algorithms/generated/networkx.algorithms.centrality.eigenvector_centrality.html)"
      ],
      "metadata": {
        "id": "1RCC323LWieY"
      }
    },
    {
      "cell_type": "code",
      "source": [
        "centralidad = pd.DataFrame({\n",
        "    'Source': dict(nx.degree(G)),\n",
        "    'Target': nx.eigenvector_centrality(G),\n",
        "    'MONTO': nx.pagerank(G)\n",
        "}).sort_index()"
      ],
      "metadata": {
        "id": "3WFZsu6eXgPX"
      },
      "execution_count": null,
      "outputs": []
    },
    {
      "cell_type": "markdown",
      "source": [
        "## **Mostrar los principales nodos para cada métrica:**\n",
        "\n",
        "Imprimimos los 5 nodos principales para cada métrica de centralidad calculada."
      ],
      "metadata": {
        "id": "XkdpADX0WkVc"
      }
    },
    {
      "cell_type": "code",
      "source": [
        "for col in centralidad.columns:\n",
        "    top_nodos = centralidad[col].nlargest(5).index.tolist()\n",
        "    top_nodos.sort()\n",
        "    print(f\"Nodos con mayor {col}: {top_nodos}\")"
      ],
      "metadata": {
        "id": "43J_ufXtXiiH"
      },
      "execution_count": null,
      "outputs": []
    },
    {
      "cell_type": "markdown",
      "source": [
        "## **Aplicación en busqueda:**\n",
        "\n",
        "Solicitamos al usuario que elija entre 'Source' o 'Target' y que ingrese el valor del nodo que desea visualizar.\n",
        "\n",
        "Filtramos el DataFrame para obtener las aristas que involucran al nodo seleccionado por el usuario. Creamos un subgrafo utilizando nx.from_pandas_edgelist y visualizamos este subgrafo utilizando nx.draw. de esta forma podríamos observar las redes transaccionales desde un origen o destino."
      ],
      "metadata": {
        "id": "iaTlSmU0Wn-r"
      }
    },
    {
      "cell_type": "code",
      "source": [
        "opcion = input(\"¿Qué quieres visualizar, 'Source' o 'Target'? \").strip().lower()\n",
        "while opcion not in ['source', 'target']:\n",
        "    print(\"Opción no válida. Por favor, ingresa 'Source' o 'Target'.\")\n",
        "    opcion = input(\"¿Qué quieres visualizar, 'Source' o 'Target'? \").strip().lower()\n",
        "\n",
        "nodo = input(f\"Por favor, ingresa el valor del nodo {opcion.capitalize()}: \")\n",
        "if nodo in df[opcion.capitalize()].unique():\n",
        "    df_filtrado = df[(df['Source' if opcion == 'source' else 'Target'] == nodo)]\n",
        "    G_nodo = nx.from_pandas_edgelist(df_filtrado, 'Source', 'Target')\n",
        "    plt.figure()\n",
        "    pos = nx.spring_layout(G_nodo)\n",
        "    nx.draw(G_nodo, pos, with_labels=True, node_size=300, node_color='skyblue', edge_color='gray', font_size=10)\n",
        "    plt.title(f'Grafo del nodo {nodo} (basado en {opcion.capitalize()})')\n",
        "    plt.show()\n",
        "else:\n",
        "    print(f\"El nodo {nodo} no existe en la columna {opcion.capitalize()}.\")"
      ],
      "metadata": {
        "id": "qYic_fMYTJ-W"
      },
      "execution_count": null,
      "outputs": []
    },
    {
      "cell_type": "markdown",
      "source": [
        "# **d. Modelos o Metodologías Utilizadas**\n",
        "\n",
        "Algoritmo de Louvain, Visualización del Grafo y Métricas de Centralidad."
      ],
      "metadata": {
        "id": "KGibipQB6Tsz"
      }
    },
    {
      "cell_type": "markdown",
      "source": [
        "# **e. Elección del Mejor Modelo/Metodología y los Criterios de su Selección**\n",
        "\n",
        "Para el presente ejercicio se tuvo en cuenta en primera instancia la interpretabilidad y visualización que, mendiante nx.draw, ilustra claramente de la estructura del grafo y la distribución de comunidades.\n",
        "\n",
        "Por otra parte, la modularidad Alta desde el algoritmo de Louvain para la detección de comunidades.\n"
      ],
      "metadata": {
        "id": "Ktxss15B6Tyr"
      }
    },
    {
      "cell_type": "markdown",
      "source": [
        "# **f. Conclusiones y Recomendaciones para el Trabajo Futuro**\n",
        "\n",
        "**Conclusiones:**\n",
        "\n",
        "**Visualización Efectiva:** La visualización del grafo permitió una comprensión clara de la estructura de la red y la distribución de las comunidades.\n",
        "\n",
        "**Métricas de Centralidad:** Las métricas de centralidad calculadas proporcionaron información efectiva sobre los nodos más importantes e influyentes en la red.\n",
        "\n",
        "---\n",
        "\n",
        "**Recomendaciones para el Trabajo Futuro:**\n",
        "\n",
        "**Ampliar el Análisis de Datos:** Incluir más atributos y características en el análisis para obtener una comprensión más profunda de las relaciones y patrones en la red.\n",
        "\n",
        "**Explorar Otros Algoritmos de Comunidad:** Validar algoritmos como el de Girvan-Newman o Infomap que nos permita debatir sobre laa comparar y validar los resultados.\n",
        "\n",
        "**Optimización de Parámetros:** Ajustar los parámetros del algoritmo de Louvainpara explorar cómo afectan a la detección de comunidades.\n",
        "\n",
        "**Inclusión de Análisis Temporal:** Validación de posibles insumos temporales que permitan realizar un análisis dinámico para estudiar cómo evolucionan las comunidades y las métricas de centralidad a lo largo del tiempo.\n",
        "\n",
        "**Automatización y Escalabilidad:** Desarrollar un pipeline automatizado para el análisis y visualización del grafo, que pueda manejar grandes volúmenes de datos de manera eficiente.\n"
      ],
      "metadata": {
        "id": "J3wwJOJN6T3T"
      }
    },
    {
      "cell_type": "markdown",
      "source": [
        "## **Información de Sistema**"
      ],
      "metadata": {
        "id": "niKnjQoxSEW7"
      }
    },
    {
      "cell_type": "code",
      "source": [
        "!pip install sinfo\n",
        "from sinfo import sinfo\n",
        "sinfo()"
      ],
      "metadata": {
        "id": "uAtEMXnTRVW2"
      },
      "execution_count": null,
      "outputs": []
    },
    {
      "cell_type": "code",
      "source": [
        "!jupyter nbconvert --to html \"/content/Profesional_III_(2400015V)_Prueba_Redes_Final.ipynb\""
      ],
      "metadata": {
        "id": "5VzMB20wLZEq"
      },
      "execution_count": null,
      "outputs": []
    }
  ]
}